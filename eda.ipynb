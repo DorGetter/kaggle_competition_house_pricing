{
 "cells": [
  {
   "cell_type": "code",
   "execution_count": 2,
   "metadata": {
    "collapsed": true
   },
   "outputs": [],
   "source": [
    "import pandas as pd"
   ]
  },
  {
   "cell_type": "code",
   "execution_count": 3,
   "outputs": [
    {
     "data": {
      "text/plain": "    Id  MSSubClass MSZoning  LotFrontage  LotArea Street Alley LotShape  \\\n0    1          60       RL         65.0     8450   Pave   NaN      Reg   \n1    2          20       RL         80.0     9600   Pave   NaN      Reg   \n2    3          60       RL         68.0    11250   Pave   NaN      IR1   \n3    4          70       RL         60.0     9550   Pave   NaN      IR1   \n4    5          60       RL         84.0    14260   Pave   NaN      IR1   \n5    6          50       RL         85.0    14115   Pave   NaN      IR1   \n6    7          20       RL         75.0    10084   Pave   NaN      Reg   \n7    8          60       RL          NaN    10382   Pave   NaN      IR1   \n8    9          50       RM         51.0     6120   Pave   NaN      Reg   \n9   10         190       RL         50.0     7420   Pave   NaN      Reg   \n10  11          20       RL         70.0    11200   Pave   NaN      Reg   \n11  12          60       RL         85.0    11924   Pave   NaN      IR1   \n12  13          20       RL          NaN    12968   Pave   NaN      IR2   \n13  14          20       RL         91.0    10652   Pave   NaN      IR1   \n14  15          20       RL          NaN    10920   Pave   NaN      IR1   \n15  16          45       RM         51.0     6120   Pave   NaN      Reg   \n16  17          20       RL          NaN    11241   Pave   NaN      IR1   \n17  18          90       RL         72.0    10791   Pave   NaN      Reg   \n18  19          20       RL         66.0    13695   Pave   NaN      Reg   \n19  20          20       RL         70.0     7560   Pave   NaN      Reg   \n20  21          60       RL        101.0    14215   Pave   NaN      IR1   \n21  22          45       RM         57.0     7449   Pave  Grvl      Reg   \n22  23          20       RL         75.0     9742   Pave   NaN      Reg   \n23  24         120       RM         44.0     4224   Pave   NaN      Reg   \n\n   LandContour Utilities  ... PoolArea PoolQC  Fence MiscFeature MiscVal  \\\n0          Lvl    AllPub  ...        0    NaN    NaN         NaN       0   \n1          Lvl    AllPub  ...        0    NaN    NaN         NaN       0   \n2          Lvl    AllPub  ...        0    NaN    NaN         NaN       0   \n3          Lvl    AllPub  ...        0    NaN    NaN         NaN       0   \n4          Lvl    AllPub  ...        0    NaN    NaN         NaN       0   \n5          Lvl    AllPub  ...        0    NaN  MnPrv        Shed     700   \n6          Lvl    AllPub  ...        0    NaN    NaN         NaN       0   \n7          Lvl    AllPub  ...        0    NaN    NaN        Shed     350   \n8          Lvl    AllPub  ...        0    NaN    NaN         NaN       0   \n9          Lvl    AllPub  ...        0    NaN    NaN         NaN       0   \n10         Lvl    AllPub  ...        0    NaN    NaN         NaN       0   \n11         Lvl    AllPub  ...        0    NaN    NaN         NaN       0   \n12         Lvl    AllPub  ...        0    NaN    NaN         NaN       0   \n13         Lvl    AllPub  ...        0    NaN    NaN         NaN       0   \n14         Lvl    AllPub  ...        0    NaN   GdWo         NaN       0   \n15         Lvl    AllPub  ...        0    NaN  GdPrv         NaN       0   \n16         Lvl    AllPub  ...        0    NaN    NaN        Shed     700   \n17         Lvl    AllPub  ...        0    NaN    NaN        Shed     500   \n18         Lvl    AllPub  ...        0    NaN    NaN         NaN       0   \n19         Lvl    AllPub  ...        0    NaN  MnPrv         NaN       0   \n20         Lvl    AllPub  ...        0    NaN    NaN         NaN       0   \n21         Bnk    AllPub  ...        0    NaN  GdPrv         NaN       0   \n22         Lvl    AllPub  ...        0    NaN    NaN         NaN       0   \n23         Lvl    AllPub  ...        0    NaN    NaN         NaN       0   \n\n   MoSold YrSold  SaleType  SaleCondition  SalePrice  \n0       2   2008        WD         Normal     208500  \n1       5   2007        WD         Normal     181500  \n2       9   2008        WD         Normal     223500  \n3       2   2006        WD        Abnorml     140000  \n4      12   2008        WD         Normal     250000  \n5      10   2009        WD         Normal     143000  \n6       8   2007        WD         Normal     307000  \n7      11   2009        WD         Normal     200000  \n8       4   2008        WD        Abnorml     129900  \n9       1   2008        WD         Normal     118000  \n10      2   2008        WD         Normal     129500  \n11      7   2006       New        Partial     345000  \n12      9   2008        WD         Normal     144000  \n13      8   2007       New        Partial     279500  \n14      5   2008        WD         Normal     157000  \n15      7   2007        WD         Normal     132000  \n16      3   2010        WD         Normal     149000  \n17     10   2006        WD         Normal      90000  \n18      6   2008        WD         Normal     159000  \n19      5   2009       COD        Abnorml     139000  \n20     11   2006       New        Partial     325300  \n21      6   2007        WD         Normal     139400  \n22      9   2008        WD         Normal     230000  \n23      6   2007        WD         Normal     129900  \n\n[24 rows x 81 columns]",
      "text/html": "<div>\n<style scoped>\n    .dataframe tbody tr th:only-of-type {\n        vertical-align: middle;\n    }\n\n    .dataframe tbody tr th {\n        vertical-align: top;\n    }\n\n    .dataframe thead th {\n        text-align: right;\n    }\n</style>\n<table border=\"1\" class=\"dataframe\">\n  <thead>\n    <tr style=\"text-align: right;\">\n      <th></th>\n      <th>Id</th>\n      <th>MSSubClass</th>\n      <th>MSZoning</th>\n      <th>LotFrontage</th>\n      <th>LotArea</th>\n      <th>Street</th>\n      <th>Alley</th>\n      <th>LotShape</th>\n      <th>LandContour</th>\n      <th>Utilities</th>\n      <th>...</th>\n      <th>PoolArea</th>\n      <th>PoolQC</th>\n      <th>Fence</th>\n      <th>MiscFeature</th>\n      <th>MiscVal</th>\n      <th>MoSold</th>\n      <th>YrSold</th>\n      <th>SaleType</th>\n      <th>SaleCondition</th>\n      <th>SalePrice</th>\n    </tr>\n  </thead>\n  <tbody>\n    <tr>\n      <th>0</th>\n      <td>1</td>\n      <td>60</td>\n      <td>RL</td>\n      <td>65.0</td>\n      <td>8450</td>\n      <td>Pave</td>\n      <td>NaN</td>\n      <td>Reg</td>\n      <td>Lvl</td>\n      <td>AllPub</td>\n      <td>...</td>\n      <td>0</td>\n      <td>NaN</td>\n      <td>NaN</td>\n      <td>NaN</td>\n      <td>0</td>\n      <td>2</td>\n      <td>2008</td>\n      <td>WD</td>\n      <td>Normal</td>\n      <td>208500</td>\n    </tr>\n    <tr>\n      <th>1</th>\n      <td>2</td>\n      <td>20</td>\n      <td>RL</td>\n      <td>80.0</td>\n      <td>9600</td>\n      <td>Pave</td>\n      <td>NaN</td>\n      <td>Reg</td>\n      <td>Lvl</td>\n      <td>AllPub</td>\n      <td>...</td>\n      <td>0</td>\n      <td>NaN</td>\n      <td>NaN</td>\n      <td>NaN</td>\n      <td>0</td>\n      <td>5</td>\n      <td>2007</td>\n      <td>WD</td>\n      <td>Normal</td>\n      <td>181500</td>\n    </tr>\n    <tr>\n      <th>2</th>\n      <td>3</td>\n      <td>60</td>\n      <td>RL</td>\n      <td>68.0</td>\n      <td>11250</td>\n      <td>Pave</td>\n      <td>NaN</td>\n      <td>IR1</td>\n      <td>Lvl</td>\n      <td>AllPub</td>\n      <td>...</td>\n      <td>0</td>\n      <td>NaN</td>\n      <td>NaN</td>\n      <td>NaN</td>\n      <td>0</td>\n      <td>9</td>\n      <td>2008</td>\n      <td>WD</td>\n      <td>Normal</td>\n      <td>223500</td>\n    </tr>\n    <tr>\n      <th>3</th>\n      <td>4</td>\n      <td>70</td>\n      <td>RL</td>\n      <td>60.0</td>\n      <td>9550</td>\n      <td>Pave</td>\n      <td>NaN</td>\n      <td>IR1</td>\n      <td>Lvl</td>\n      <td>AllPub</td>\n      <td>...</td>\n      <td>0</td>\n      <td>NaN</td>\n      <td>NaN</td>\n      <td>NaN</td>\n      <td>0</td>\n      <td>2</td>\n      <td>2006</td>\n      <td>WD</td>\n      <td>Abnorml</td>\n      <td>140000</td>\n    </tr>\n    <tr>\n      <th>4</th>\n      <td>5</td>\n      <td>60</td>\n      <td>RL</td>\n      <td>84.0</td>\n      <td>14260</td>\n      <td>Pave</td>\n      <td>NaN</td>\n      <td>IR1</td>\n      <td>Lvl</td>\n      <td>AllPub</td>\n      <td>...</td>\n      <td>0</td>\n      <td>NaN</td>\n      <td>NaN</td>\n      <td>NaN</td>\n      <td>0</td>\n      <td>12</td>\n      <td>2008</td>\n      <td>WD</td>\n      <td>Normal</td>\n      <td>250000</td>\n    </tr>\n    <tr>\n      <th>5</th>\n      <td>6</td>\n      <td>50</td>\n      <td>RL</td>\n      <td>85.0</td>\n      <td>14115</td>\n      <td>Pave</td>\n      <td>NaN</td>\n      <td>IR1</td>\n      <td>Lvl</td>\n      <td>AllPub</td>\n      <td>...</td>\n      <td>0</td>\n      <td>NaN</td>\n      <td>MnPrv</td>\n      <td>Shed</td>\n      <td>700</td>\n      <td>10</td>\n      <td>2009</td>\n      <td>WD</td>\n      <td>Normal</td>\n      <td>143000</td>\n    </tr>\n    <tr>\n      <th>6</th>\n      <td>7</td>\n      <td>20</td>\n      <td>RL</td>\n      <td>75.0</td>\n      <td>10084</td>\n      <td>Pave</td>\n      <td>NaN</td>\n      <td>Reg</td>\n      <td>Lvl</td>\n      <td>AllPub</td>\n      <td>...</td>\n      <td>0</td>\n      <td>NaN</td>\n      <td>NaN</td>\n      <td>NaN</td>\n      <td>0</td>\n      <td>8</td>\n      <td>2007</td>\n      <td>WD</td>\n      <td>Normal</td>\n      <td>307000</td>\n    </tr>\n    <tr>\n      <th>7</th>\n      <td>8</td>\n      <td>60</td>\n      <td>RL</td>\n      <td>NaN</td>\n      <td>10382</td>\n      <td>Pave</td>\n      <td>NaN</td>\n      <td>IR1</td>\n      <td>Lvl</td>\n      <td>AllPub</td>\n      <td>...</td>\n      <td>0</td>\n      <td>NaN</td>\n      <td>NaN</td>\n      <td>Shed</td>\n      <td>350</td>\n      <td>11</td>\n      <td>2009</td>\n      <td>WD</td>\n      <td>Normal</td>\n      <td>200000</td>\n    </tr>\n    <tr>\n      <th>8</th>\n      <td>9</td>\n      <td>50</td>\n      <td>RM</td>\n      <td>51.0</td>\n      <td>6120</td>\n      <td>Pave</td>\n      <td>NaN</td>\n      <td>Reg</td>\n      <td>Lvl</td>\n      <td>AllPub</td>\n      <td>...</td>\n      <td>0</td>\n      <td>NaN</td>\n      <td>NaN</td>\n      <td>NaN</td>\n      <td>0</td>\n      <td>4</td>\n      <td>2008</td>\n      <td>WD</td>\n      <td>Abnorml</td>\n      <td>129900</td>\n    </tr>\n    <tr>\n      <th>9</th>\n      <td>10</td>\n      <td>190</td>\n      <td>RL</td>\n      <td>50.0</td>\n      <td>7420</td>\n      <td>Pave</td>\n      <td>NaN</td>\n      <td>Reg</td>\n      <td>Lvl</td>\n      <td>AllPub</td>\n      <td>...</td>\n      <td>0</td>\n      <td>NaN</td>\n      <td>NaN</td>\n      <td>NaN</td>\n      <td>0</td>\n      <td>1</td>\n      <td>2008</td>\n      <td>WD</td>\n      <td>Normal</td>\n      <td>118000</td>\n    </tr>\n    <tr>\n      <th>10</th>\n      <td>11</td>\n      <td>20</td>\n      <td>RL</td>\n      <td>70.0</td>\n      <td>11200</td>\n      <td>Pave</td>\n      <td>NaN</td>\n      <td>Reg</td>\n      <td>Lvl</td>\n      <td>AllPub</td>\n      <td>...</td>\n      <td>0</td>\n      <td>NaN</td>\n      <td>NaN</td>\n      <td>NaN</td>\n      <td>0</td>\n      <td>2</td>\n      <td>2008</td>\n      <td>WD</td>\n      <td>Normal</td>\n      <td>129500</td>\n    </tr>\n    <tr>\n      <th>11</th>\n      <td>12</td>\n      <td>60</td>\n      <td>RL</td>\n      <td>85.0</td>\n      <td>11924</td>\n      <td>Pave</td>\n      <td>NaN</td>\n      <td>IR1</td>\n      <td>Lvl</td>\n      <td>AllPub</td>\n      <td>...</td>\n      <td>0</td>\n      <td>NaN</td>\n      <td>NaN</td>\n      <td>NaN</td>\n      <td>0</td>\n      <td>7</td>\n      <td>2006</td>\n      <td>New</td>\n      <td>Partial</td>\n      <td>345000</td>\n    </tr>\n    <tr>\n      <th>12</th>\n      <td>13</td>\n      <td>20</td>\n      <td>RL</td>\n      <td>NaN</td>\n      <td>12968</td>\n      <td>Pave</td>\n      <td>NaN</td>\n      <td>IR2</td>\n      <td>Lvl</td>\n      <td>AllPub</td>\n      <td>...</td>\n      <td>0</td>\n      <td>NaN</td>\n      <td>NaN</td>\n      <td>NaN</td>\n      <td>0</td>\n      <td>9</td>\n      <td>2008</td>\n      <td>WD</td>\n      <td>Normal</td>\n      <td>144000</td>\n    </tr>\n    <tr>\n      <th>13</th>\n      <td>14</td>\n      <td>20</td>\n      <td>RL</td>\n      <td>91.0</td>\n      <td>10652</td>\n      <td>Pave</td>\n      <td>NaN</td>\n      <td>IR1</td>\n      <td>Lvl</td>\n      <td>AllPub</td>\n      <td>...</td>\n      <td>0</td>\n      <td>NaN</td>\n      <td>NaN</td>\n      <td>NaN</td>\n      <td>0</td>\n      <td>8</td>\n      <td>2007</td>\n      <td>New</td>\n      <td>Partial</td>\n      <td>279500</td>\n    </tr>\n    <tr>\n      <th>14</th>\n      <td>15</td>\n      <td>20</td>\n      <td>RL</td>\n      <td>NaN</td>\n      <td>10920</td>\n      <td>Pave</td>\n      <td>NaN</td>\n      <td>IR1</td>\n      <td>Lvl</td>\n      <td>AllPub</td>\n      <td>...</td>\n      <td>0</td>\n      <td>NaN</td>\n      <td>GdWo</td>\n      <td>NaN</td>\n      <td>0</td>\n      <td>5</td>\n      <td>2008</td>\n      <td>WD</td>\n      <td>Normal</td>\n      <td>157000</td>\n    </tr>\n    <tr>\n      <th>15</th>\n      <td>16</td>\n      <td>45</td>\n      <td>RM</td>\n      <td>51.0</td>\n      <td>6120</td>\n      <td>Pave</td>\n      <td>NaN</td>\n      <td>Reg</td>\n      <td>Lvl</td>\n      <td>AllPub</td>\n      <td>...</td>\n      <td>0</td>\n      <td>NaN</td>\n      <td>GdPrv</td>\n      <td>NaN</td>\n      <td>0</td>\n      <td>7</td>\n      <td>2007</td>\n      <td>WD</td>\n      <td>Normal</td>\n      <td>132000</td>\n    </tr>\n    <tr>\n      <th>16</th>\n      <td>17</td>\n      <td>20</td>\n      <td>RL</td>\n      <td>NaN</td>\n      <td>11241</td>\n      <td>Pave</td>\n      <td>NaN</td>\n      <td>IR1</td>\n      <td>Lvl</td>\n      <td>AllPub</td>\n      <td>...</td>\n      <td>0</td>\n      <td>NaN</td>\n      <td>NaN</td>\n      <td>Shed</td>\n      <td>700</td>\n      <td>3</td>\n      <td>2010</td>\n      <td>WD</td>\n      <td>Normal</td>\n      <td>149000</td>\n    </tr>\n    <tr>\n      <th>17</th>\n      <td>18</td>\n      <td>90</td>\n      <td>RL</td>\n      <td>72.0</td>\n      <td>10791</td>\n      <td>Pave</td>\n      <td>NaN</td>\n      <td>Reg</td>\n      <td>Lvl</td>\n      <td>AllPub</td>\n      <td>...</td>\n      <td>0</td>\n      <td>NaN</td>\n      <td>NaN</td>\n      <td>Shed</td>\n      <td>500</td>\n      <td>10</td>\n      <td>2006</td>\n      <td>WD</td>\n      <td>Normal</td>\n      <td>90000</td>\n    </tr>\n    <tr>\n      <th>18</th>\n      <td>19</td>\n      <td>20</td>\n      <td>RL</td>\n      <td>66.0</td>\n      <td>13695</td>\n      <td>Pave</td>\n      <td>NaN</td>\n      <td>Reg</td>\n      <td>Lvl</td>\n      <td>AllPub</td>\n      <td>...</td>\n      <td>0</td>\n      <td>NaN</td>\n      <td>NaN</td>\n      <td>NaN</td>\n      <td>0</td>\n      <td>6</td>\n      <td>2008</td>\n      <td>WD</td>\n      <td>Normal</td>\n      <td>159000</td>\n    </tr>\n    <tr>\n      <th>19</th>\n      <td>20</td>\n      <td>20</td>\n      <td>RL</td>\n      <td>70.0</td>\n      <td>7560</td>\n      <td>Pave</td>\n      <td>NaN</td>\n      <td>Reg</td>\n      <td>Lvl</td>\n      <td>AllPub</td>\n      <td>...</td>\n      <td>0</td>\n      <td>NaN</td>\n      <td>MnPrv</td>\n      <td>NaN</td>\n      <td>0</td>\n      <td>5</td>\n      <td>2009</td>\n      <td>COD</td>\n      <td>Abnorml</td>\n      <td>139000</td>\n    </tr>\n    <tr>\n      <th>20</th>\n      <td>21</td>\n      <td>60</td>\n      <td>RL</td>\n      <td>101.0</td>\n      <td>14215</td>\n      <td>Pave</td>\n      <td>NaN</td>\n      <td>IR1</td>\n      <td>Lvl</td>\n      <td>AllPub</td>\n      <td>...</td>\n      <td>0</td>\n      <td>NaN</td>\n      <td>NaN</td>\n      <td>NaN</td>\n      <td>0</td>\n      <td>11</td>\n      <td>2006</td>\n      <td>New</td>\n      <td>Partial</td>\n      <td>325300</td>\n    </tr>\n    <tr>\n      <th>21</th>\n      <td>22</td>\n      <td>45</td>\n      <td>RM</td>\n      <td>57.0</td>\n      <td>7449</td>\n      <td>Pave</td>\n      <td>Grvl</td>\n      <td>Reg</td>\n      <td>Bnk</td>\n      <td>AllPub</td>\n      <td>...</td>\n      <td>0</td>\n      <td>NaN</td>\n      <td>GdPrv</td>\n      <td>NaN</td>\n      <td>0</td>\n      <td>6</td>\n      <td>2007</td>\n      <td>WD</td>\n      <td>Normal</td>\n      <td>139400</td>\n    </tr>\n    <tr>\n      <th>22</th>\n      <td>23</td>\n      <td>20</td>\n      <td>RL</td>\n      <td>75.0</td>\n      <td>9742</td>\n      <td>Pave</td>\n      <td>NaN</td>\n      <td>Reg</td>\n      <td>Lvl</td>\n      <td>AllPub</td>\n      <td>...</td>\n      <td>0</td>\n      <td>NaN</td>\n      <td>NaN</td>\n      <td>NaN</td>\n      <td>0</td>\n      <td>9</td>\n      <td>2008</td>\n      <td>WD</td>\n      <td>Normal</td>\n      <td>230000</td>\n    </tr>\n    <tr>\n      <th>23</th>\n      <td>24</td>\n      <td>120</td>\n      <td>RM</td>\n      <td>44.0</td>\n      <td>4224</td>\n      <td>Pave</td>\n      <td>NaN</td>\n      <td>Reg</td>\n      <td>Lvl</td>\n      <td>AllPub</td>\n      <td>...</td>\n      <td>0</td>\n      <td>NaN</td>\n      <td>NaN</td>\n      <td>NaN</td>\n      <td>0</td>\n      <td>6</td>\n      <td>2007</td>\n      <td>WD</td>\n      <td>Normal</td>\n      <td>129900</td>\n    </tr>\n  </tbody>\n</table>\n<p>24 rows × 81 columns</p>\n</div>"
     },
     "execution_count": 3,
     "metadata": {},
     "output_type": "execute_result"
    }
   ],
   "source": [
    "data = pd.read_csv('data/train.csv')\n",
    "data.head(24)"
   ],
   "metadata": {
    "collapsed": false
   }
  },
  {
   "cell_type": "code",
   "execution_count": 24,
   "outputs": [
    {
     "data": {
      "text/plain": "PoolQC         0.995205\nMiscFeature    0.963014\nAlley          0.937671\nFence          0.807534\nFireplaceQu    0.472603\n                 ...   \nExterQual      0.000000\nExterior2nd    0.000000\nExterior1st    0.000000\nRoofMatl       0.000000\nSalePrice      0.000000\nLength: 81, dtype: float64"
     },
     "execution_count": 24,
     "metadata": {},
     "output_type": "execute_result"
    }
   ],
   "source": [
    "data.isna().mean().sort_values(ascending=False)"
   ],
   "metadata": {
    "collapsed": false
   }
  },
  {
   "cell_type": "code",
   "execution_count": 25,
   "outputs": [
    {
     "data": {
      "text/plain": "(1460, 81)"
     },
     "execution_count": 25,
     "metadata": {},
     "output_type": "execute_result"
    }
   ],
   "source": [
    "data.shape"
   ],
   "metadata": {
    "collapsed": false
   }
  },
  {
   "cell_type": "code",
   "execution_count": 20,
   "outputs": [
    {
     "data": {
      "text/plain": "0       NaN\n1        TA\n2        TA\n3        Gd\n4        TA\n       ... \n1455     TA\n1456     TA\n1457     Gd\n1458    NaN\n1459    NaN\nName: FireplaceQu, Length: 1460, dtype: object"
     },
     "execution_count": 20,
     "metadata": {},
     "output_type": "execute_result"
    }
   ],
   "source": [
    "data['FireplaceQu']"
   ],
   "metadata": {
    "collapsed": false
   }
  },
  {
   "cell_type": "code",
   "execution_count": null,
   "outputs": [],
   "source": [],
   "metadata": {
    "collapsed": false
   }
  }
 ],
 "metadata": {
  "kernelspec": {
   "display_name": "Python 3",
   "language": "python",
   "name": "python3"
  },
  "language_info": {
   "codemirror_mode": {
    "name": "ipython",
    "version": 2
   },
   "file_extension": ".py",
   "mimetype": "text/x-python",
   "name": "python",
   "nbconvert_exporter": "python",
   "pygments_lexer": "ipython2",
   "version": "2.7.6"
  }
 },
 "nbformat": 4,
 "nbformat_minor": 0
}
