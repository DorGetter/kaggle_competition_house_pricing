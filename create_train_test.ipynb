{
 "cells": [
  {
   "cell_type": "markdown",
   "id": "49cdc2b2",
   "metadata": {},
   "source": [
    "# Creating Dataset for training\n",
    "## preprocess the data"
   ]
  },
  {
   "cell_type": "code",
   "execution_count": 82,
   "id": "0f127a8b",
   "metadata": {},
   "outputs": [],
   "source": [
    "import pandas as pd"
   ]
  },
  {
   "cell_type": "code",
   "execution_count": 84,
   "id": "63fa0f86",
   "metadata": {},
   "outputs": [
    {
     "name": "stdout",
     "output_type": "stream",
     "text": [
      "train df: (1460, 81), test_df: (1459, 80)\n"
     ]
    },
    {
     "data": {
      "text/plain": "Id                 0\nMSSubClass         0\nMSZoning           4\nLotFrontage      227\nLotArea            0\n                ... \nMiscVal            0\nMoSold             0\nYrSold             0\nSaleType           1\nSaleCondition      0\nLength: 80, dtype: int64"
     },
     "execution_count": 84,
     "metadata": {},
     "output_type": "execute_result"
    }
   ],
   "source": [
    "def read_data():\n",
    "    train_df = pd.read_csv('./data/train.csv')\n",
    "    test_df = pd.read_csv('./data/test.csv')\n",
    "    print(\"train df: {}, test_df: {}\".format(train_df.shape, test_df.shape))\n",
    "    dataset = pd.concat([train_df, test_df], axis=0)\n",
    "#     print(dataset.iloc[1460])\n",
    "    return dataset\n",
    "dataset = read_data()\n",
    "dataset.isna().sum()"
   ]
  },
  {
   "cell_type": "code",
   "execution_count": 85,
   "id": "1b92e0bb",
   "metadata": {},
   "outputs": [
    {
     "data": {
      "text/plain": "(1459, 80)"
     },
     "execution_count": 85,
     "metadata": {},
     "output_type": "execute_result"
    }
   ],
   "source": [
    "dataset.shape\n",
    "dataset.head(2)"
   ]
  },
  {
   "cell_type": "code",
   "execution_count": 86,
   "id": "2d03459d",
   "metadata": {},
   "outputs": [],
   "source": [
    "def fill_NaNs(df):\n",
    "    df.drop('Id', axis=1, inplace=True) # removing Id feature (will not give any info on the price just fifo).\n",
    "    df['PoolQC'] = df['PoolQC'].fillna('NA') # No pool\n",
    "    df['MiscFeature'] = df['MiscFeature'].fillna('NA') # no special element in the house.\n",
    "    df['Alley'] = df['Alley'].fillna('NA') # not access to alley\n",
    "    df['Fence'] = df['Fence'].fillna('NA') # no fence \n",
    "    # same thing we will do to FireplaceQu, LotFrontage\n",
    "    df['FireplaceQu'] = df['FireplaceQu'].fillna('NA') # no fireplace in the house. \n",
    "    df['LotFrontage'] = df['LotFrontage'].fillna(0.) # there is no front area. \n",
    "    # and for the Garage missing houses and the Basement missing houses. \n",
    "    df.fillna({'GarageType':'NA', 'GarageFinish':'NA', 'GarageQual':'NA', 'GarageCond':'NA', 'GarageYrBlt':.0}, inplace=True)\n",
    "    df.fillna({'BsmtExposure':'NA', 'BsmtQual':'NA', 'BsmtFinType2':'NA', 'BsmtCond':'NA', 'BsmtFinType1': 'NA'}, inplace=True)\n",
    "    df['MasVnrType'] = df['MasVnrType'].fillna('NA') # No Masonry veneer type\n",
    "    df['MasVnrArea'] = df['MasVnrArea'].fillna(0.) # No Masonry area. \n",
    "    df['Electrical'] = df['Electrical'].fillna(df['Electrical'].mode()[0]) # we will replace the NaNs with the median=SBrkr\n",
    "    return df"
   ]
  },
  {
   "cell_type": "code",
   "execution_count": 87,
   "id": "19c55647",
   "metadata": {},
   "outputs": [
    {
     "data": {
      "text/plain": "(1459, 79)"
     },
     "execution_count": 87,
     "metadata": {},
     "output_type": "execute_result"
    }
   ],
   "source": [
    "dataset = fill_NaNs(dataset)"
   ]
  },
  {
   "cell_type": "code",
   "execution_count": 88,
   "id": "0992580a",
   "metadata": {},
   "outputs": [],
   "source": [
    "def create_dummies(df):\n",
    "    df = pd.get_dummies(df, prefix=None, prefix_sep='_', dummy_na=False, columns=None, sparse=False, drop_first=True, dtype=None)\n",
    "    return df"
   ]
  },
  {
   "cell_type": "code",
   "execution_count": 89,
   "id": "fd0ac5d3",
   "metadata": {},
   "outputs": [
    {
     "data": {
      "text/plain": "(1459, 242)"
     },
     "execution_count": 89,
     "metadata": {},
     "output_type": "execute_result"
    }
   ],
   "source": [
    "dataset = create_dummies(dataset)\n",
    "dataset.columns.tolist()"
   ]
  },
  {
   "cell_type": "code",
   "execution_count": 28,
   "id": "f99ae62c",
   "metadata": {},
   "outputs": [],
   "source": [
    "train_df, kaggle_test_df = dataset[~dataset['SalePrice'].isna()] ,  dataset[dataset['SalePrice'].isna()] # split back. "
   ]
  },
  {
   "cell_type": "code",
   "execution_count": 29,
   "id": "ffa7ad94",
   "metadata": {},
   "outputs": [
    {
     "name": "stdout",
     "output_type": "stream",
     "text": [
      "(1460, 261) (1459, 261)\n"
     ]
    }
   ],
   "source": [
    "print(train_df.shape, kaggle_test_df.shape)"
   ]
  },
  {
   "cell_type": "markdown",
   "id": "13314cfb",
   "metadata": {},
   "source": [
    "# Modeling"
   ]
  },
  {
   "cell_type": "code",
   "execution_count": 30,
   "id": "9431415e",
   "metadata": {},
   "outputs": [],
   "source": [
    "from sklearn.model_selection import train_test_split\n",
    "X = train_df.drop('SalePrice', axis=1)\n",
    "y = train_df['SalePrice']\n",
    "X_train, X_test, y_train, y_test = train_test_split(X, y, test_size=0.3, random_state=1234)"
   ]
  },
  {
   "cell_type": "code",
   "execution_count": 31,
   "id": "6d995ed7",
   "metadata": {},
   "outputs": [
    {
     "name": "stdout",
     "output_type": "stream",
     "text": [
      "(1022, 260) (438, 260) (1022,) (438,)\n"
     ]
    }
   ],
   "source": [
    "print(X_train.shape, X_test.shape,y_train.shape,y_test.shape)"
   ]
  },
  {
   "cell_type": "markdown",
   "id": "8cce5496",
   "metadata": {},
   "source": [
    "#### import dependencies"
   ]
  },
  {
   "cell_type": "code",
   "execution_count": 32,
   "id": "fd29268d",
   "metadata": {},
   "outputs": [],
   "source": [
    "from sklearn.pipeline import make_pipeline\n",
    "from sklearn.linear_model import Ridge, Lasso, ElasticNet\n",
    "from sklearn.ensemble import RandomForestRegressor, GradientBoostingRegressor"
   ]
  },
  {
   "cell_type": "code",
   "execution_count": 33,
   "id": "bdde0856",
   "metadata": {},
   "outputs": [],
   "source": [
    "piplines = {\n",
    "    'rf':make_pipeline(RandomForestRegressor(random_state=1234)),\n",
    "    'gb':make_pipeline(GradientBoostingRegressor(random_state=1234)),\n",
    "    'ridge':make_pipeline(Ridge(random_state=1234)),\n",
    "    'lasso':make_pipeline(Lasso(random_state=1234)),\n",
    "    'enet':make_pipeline(ElasticNet(random_state=1234)),\n",
    "}"
   ]
  },
  {
   "cell_type": "markdown",
   "id": "14ee12a4",
   "metadata": {},
   "source": [
    "###### create hyperparameter grid."
   ]
  },
  {
   "cell_type": "code",
   "execution_count": 34,
   "id": "9cc29423",
   "metadata": {},
   "outputs": [
    {
     "data": {
      "text/plain": [
       "{'bootstrap': True,\n",
       " 'ccp_alpha': 0.0,\n",
       " 'criterion': 'mse',\n",
       " 'max_depth': None,\n",
       " 'max_features': 'auto',\n",
       " 'max_leaf_nodes': None,\n",
       " 'max_samples': None,\n",
       " 'min_impurity_decrease': 0.0,\n",
       " 'min_impurity_split': None,\n",
       " 'min_samples_leaf': 1,\n",
       " 'min_samples_split': 2,\n",
       " 'min_weight_fraction_leaf': 0.0,\n",
       " 'n_estimators': 100,\n",
       " 'n_jobs': None,\n",
       " 'oob_score': False,\n",
       " 'random_state': None,\n",
       " 'verbose': 0,\n",
       " 'warm_start': False}"
      ]
     },
     "execution_count": 34,
     "metadata": {},
     "output_type": "execute_result"
    }
   ],
   "source": [
    "RandomForestRegressor().get_params()"
   ]
  },
  {
   "cell_type": "code",
   "execution_count": 35,
   "id": "27f3d6a6",
   "metadata": {},
   "outputs": [],
   "source": [
    "hypergrid = {\n",
    "    'rf':{\n",
    "        'randomforestregressor__min_samples_split':[2,3,4,5,6],\n",
    "        'randomforestregressor__min_samples_leaf':[1,2,3,4,5,6]\n",
    "    },\n",
    "    \n",
    "    'gb':{\n",
    "        'gradientboostingregressor__alpha':[0.001, 0.005, 0.01, 0.05, 0.1, 0.5, 0.99]\n",
    "    },\n",
    "    'ridge':{\n",
    "        'ridge__alpha':[0.001, 0.005, 0.01, 0.05, 0.1, 0.5, 0.99]\n",
    "    },\n",
    "    'lasso':{\n",
    "        'lasso__alpha':[0.001, 0.005, 0.01, 0.05, 0.1, 0.5, 0.99]\n",
    "    },\n",
    "    'enet':{\n",
    "        'elasticnet__alpha':[0.001, 0.005, 0.01, 0.05, 0.1, 0.5, 0.99]\n",
    "    }\n",
    "}"
   ]
  },
  {
   "cell_type": "code",
   "execution_count": 36,
   "id": "1bc5ab4a",
   "metadata": {},
   "outputs": [],
   "source": [
    "from sklearn.exceptions import NotFittedError\n",
    "from sklearn.model_selection import GridSearchCV"
   ]
  },
  {
   "cell_type": "code",
   "execution_count": 37,
   "id": "29538904",
   "metadata": {},
   "outputs": [
    {
     "name": "stdout",
     "output_type": "stream",
     "text": [
      "starting training for rf\n",
      "rf trained succefully!\n",
      "starting training for gb\n",
      "gb trained succefully!\n",
      "starting training for ridge\n",
      "ridge trained succefully!\n",
      "starting training for lasso\n"
     ]
    },
    {
     "name": "stderr",
     "output_type": "stream",
     "text": [
      "/usr/lib/python3/dist-packages/sklearn/linear_model/_coordinate_descent.py:474: ConvergenceWarning: Objective did not converge. You might want to increase the number of iterations. Duality gap: 221400082967.71643, tolerance: 700972610.6092697\n",
      "  model = cd_fast.enet_coordinate_descent(\n"
     ]
    },
    {
     "name": "stdout",
     "output_type": "stream",
     "text": [
      "lasso trained succefully!\n",
      "starting training for enet\n",
      "enet trained succefully!\n"
     ]
    },
    {
     "name": "stderr",
     "output_type": "stream",
     "text": [
      "/usr/lib/python3/dist-packages/sklearn/linear_model/_coordinate_descent.py:474: ConvergenceWarning: Objective did not converge. You might want to increase the number of iterations. Duality gap: 374007801712.91034, tolerance: 700972610.6092697\n",
      "  model = cd_fast.enet_coordinate_descent(\n"
     ]
    }
   ],
   "source": [
    "fit_models = {}\n",
    "for algo, pipline in piplines.items():\n",
    "    model = GridSearchCV(pipline, hypergrid[algo], cv=10, n_jobs=-1)\n",
    "    try:\n",
    "        print(\"starting training for {}\".format(algo))\n",
    "        model.fit(X_train, y_train)\n",
    "        fit_models[algo] = model\n",
    "        print(\"{} trained succefully!\".format(algo))\n",
    "    except NotFittedError as e:\n",
    "        print(repr(e))"
   ]
  },
  {
   "cell_type": "markdown",
   "id": "7833c5bc",
   "metadata": {},
   "source": [
    "# Evaluation "
   ]
  },
  {
   "cell_type": "code",
   "execution_count": 61,
   "id": "10fc9fee",
   "metadata": {},
   "outputs": [],
   "source": [
    "from sklearn.metrics import r2_score, mean_absolute_error, mean_squared_error\n",
    "import numpy as np"
   ]
  },
  {
   "cell_type": "code",
   "execution_count": 39,
   "id": "11730994",
   "metadata": {},
   "outputs": [],
   "source": [
    "results = {\n",
    "    'rf': None,\n",
    "    'gb':None,\n",
    "    'ridge':None,\n",
    "    'lasso':None,\n",
    "    'enet':None\n",
    "}"
   ]
  },
  {
   "cell_type": "code",
   "execution_count": 68,
   "id": "2027eb2c",
   "metadata": {},
   "outputs": [
    {
     "name": "stdout",
     "output_type": "stream",
     "text": [
      "rf scores - R2: 0.8758115667080781 MAE: 16392.56047142121 RMSE: 620692911.9334009\n",
      "gb scores - R2: 0.8974761496977999 MAE: 15184.196438731591 RMSE: 512413479.25786245\n",
      "ridge scores - R2: 0.8333540111334635 MAE: 19235.16594570724 RMSE: 832895474.6409531\n",
      "lasso scores - R2: 0.7189956216342113 MAE: 19202.736716826315 RMSE: 1404457897.1690915\n",
      "enet scores - R2: 0.867785792665932 MAE: 18086.38336390259 RMSE: 660805673.8766115\n"
     ]
    }
   ],
   "source": [
    "\n",
    "import pickle\n",
    "for algo, model in fit_models.items():\n",
    "\n",
    "    yhat = model.predict(X_test)\n",
    "    results[algo] = np.round(yhat,2)\n",
    "    print('{} scores - R2: {} MAE: {} RMSE: {}'.format(algo, r2_score(y_test, yhat), mean_absolute_error(y_test, yhat), mean_squared_error(y_test,yhat)))"
   ]
  },
  {
   "cell_type": "markdown",
   "id": "9ff14031",
   "metadata": {},
   "source": [
    "it seems that our winner is the grdientboosting regressor!"
   ]
  },
  {
   "cell_type": "code",
   "execution_count": 41,
   "id": "6867c248",
   "metadata": {},
   "outputs": [],
   "source": [
    "df_res = pd.DataFrame(results)"
   ]
  },
  {
   "cell_type": "code",
   "execution_count": 42,
   "id": "0d62da6c",
   "metadata": {},
   "outputs": [],
   "source": [
    "df_res.shape\n",
    "df_res['GT'] = list(y_test)\n",
    "df_res['diff_rf'] = df_res['GT'] - df_res['rf']\n",
    "df_res['diff_gb'] = df_res['GT'] - df_res['gb']\n",
    "df_res['diff_ridge'] = df_res['GT'] - df_res['ridge']\n",
    "df_res['diff_lasso'] = df_res['GT'] - df_res['lasso']\n",
    "df_res['diff_enet'] = df_res['GT'] - df_res['enet']"
   ]
  },
  {
   "cell_type": "markdown",
   "id": "64818386",
   "metadata": {},
   "source": [
    "## Analysing results"
   ]
  },
  {
   "cell_type": "code",
   "execution_count": 43,
   "id": "ff79f191",
   "metadata": {},
   "outputs": [
    {
     "data": {
      "text/html": [
       "<div>\n",
       "<style scoped>\n",
       "    .dataframe tbody tr th:only-of-type {\n",
       "        vertical-align: middle;\n",
       "    }\n",
       "\n",
       "    .dataframe tbody tr th {\n",
       "        vertical-align: top;\n",
       "    }\n",
       "\n",
       "    .dataframe thead th {\n",
       "        text-align: right;\n",
       "    }\n",
       "</style>\n",
       "<table border=\"1\" class=\"dataframe\">\n",
       "  <thead>\n",
       "    <tr style=\"text-align: right;\">\n",
       "      <th></th>\n",
       "      <th>diff_rf</th>\n",
       "      <th>rf</th>\n",
       "      <th>GT</th>\n",
       "    </tr>\n",
       "  </thead>\n",
       "  <tbody>\n",
       "    <tr>\n",
       "      <th>0</th>\n",
       "      <td>5427.36</td>\n",
       "      <td>199572.64</td>\n",
       "      <td>205000.0</td>\n",
       "    </tr>\n",
       "    <tr>\n",
       "      <th>1</th>\n",
       "      <td>-2479.71</td>\n",
       "      <td>347479.71</td>\n",
       "      <td>345000.0</td>\n",
       "    </tr>\n",
       "    <tr>\n",
       "      <th>2</th>\n",
       "      <td>-3565.05</td>\n",
       "      <td>177465.05</td>\n",
       "      <td>173900.0</td>\n",
       "    </tr>\n",
       "    <tr>\n",
       "      <th>3</th>\n",
       "      <td>3072.00</td>\n",
       "      <td>90428.00</td>\n",
       "      <td>93500.0</td>\n",
       "    </tr>\n",
       "    <tr>\n",
       "      <th>4</th>\n",
       "      <td>24612.36</td>\n",
       "      <td>241287.64</td>\n",
       "      <td>265900.0</td>\n",
       "    </tr>\n",
       "  </tbody>\n",
       "</table>\n",
       "</div>"
      ],
      "text/plain": [
       "    diff_rf         rf        GT\n",
       "0   5427.36  199572.64  205000.0\n",
       "1  -2479.71  347479.71  345000.0\n",
       "2  -3565.05  177465.05  173900.0\n",
       "3   3072.00   90428.00   93500.0\n",
       "4  24612.36  241287.64  265900.0"
      ]
     },
     "execution_count": 43,
     "metadata": {},
     "output_type": "execute_result"
    }
   ],
   "source": [
    "df_rf_res = df_res[['diff_rf', 'rf', 'GT']]\n",
    "df_rf_res.head(5)"
   ]
  },
  {
   "cell_type": "code",
   "execution_count": 44,
   "id": "ab29b385",
   "metadata": {},
   "outputs": [
    {
     "data": {
      "text/html": [
       "<div>\n",
       "<style scoped>\n",
       "    .dataframe tbody tr th:only-of-type {\n",
       "        vertical-align: middle;\n",
       "    }\n",
       "\n",
       "    .dataframe tbody tr th {\n",
       "        vertical-align: top;\n",
       "    }\n",
       "\n",
       "    .dataframe thead th {\n",
       "        text-align: right;\n",
       "    }\n",
       "</style>\n",
       "<table border=\"1\" class=\"dataframe\">\n",
       "  <thead>\n",
       "    <tr style=\"text-align: right;\">\n",
       "      <th></th>\n",
       "      <th>diff_gb</th>\n",
       "      <th>gb</th>\n",
       "      <th>GT</th>\n",
       "    </tr>\n",
       "  </thead>\n",
       "  <tbody>\n",
       "    <tr>\n",
       "      <th>0</th>\n",
       "      <td>-6276.45</td>\n",
       "      <td>211276.45</td>\n",
       "      <td>205000.0</td>\n",
       "    </tr>\n",
       "    <tr>\n",
       "      <th>1</th>\n",
       "      <td>-4809.73</td>\n",
       "      <td>349809.73</td>\n",
       "      <td>345000.0</td>\n",
       "    </tr>\n",
       "    <tr>\n",
       "      <th>2</th>\n",
       "      <td>-803.96</td>\n",
       "      <td>174703.96</td>\n",
       "      <td>173900.0</td>\n",
       "    </tr>\n",
       "    <tr>\n",
       "      <th>3</th>\n",
       "      <td>10329.79</td>\n",
       "      <td>83170.21</td>\n",
       "      <td>93500.0</td>\n",
       "    </tr>\n",
       "    <tr>\n",
       "      <th>4</th>\n",
       "      <td>46335.40</td>\n",
       "      <td>219564.60</td>\n",
       "      <td>265900.0</td>\n",
       "    </tr>\n",
       "  </tbody>\n",
       "</table>\n",
       "</div>"
      ],
      "text/plain": [
       "    diff_gb         gb        GT\n",
       "0  -6276.45  211276.45  205000.0\n",
       "1  -4809.73  349809.73  345000.0\n",
       "2   -803.96  174703.96  173900.0\n",
       "3  10329.79   83170.21   93500.0\n",
       "4  46335.40  219564.60  265900.0"
      ]
     },
     "execution_count": 44,
     "metadata": {},
     "output_type": "execute_result"
    }
   ],
   "source": [
    "df_gb_res = df_res[['diff_gb', 'gb', 'GT']]\n",
    "df_gb_res.head(5)"
   ]
  },
  {
   "cell_type": "code",
   "execution_count": 45,
   "id": "f783b7c2",
   "metadata": {},
   "outputs": [
    {
     "data": {
      "text/html": [
       "<div>\n",
       "<style scoped>\n",
       "    .dataframe tbody tr th:only-of-type {\n",
       "        vertical-align: middle;\n",
       "    }\n",
       "\n",
       "    .dataframe tbody tr th {\n",
       "        vertical-align: top;\n",
       "    }\n",
       "\n",
       "    .dataframe thead th {\n",
       "        text-align: right;\n",
       "    }\n",
       "</style>\n",
       "<table border=\"1\" class=\"dataframe\">\n",
       "  <thead>\n",
       "    <tr style=\"text-align: right;\">\n",
       "      <th></th>\n",
       "      <th>diff_ridge</th>\n",
       "      <th>ridge</th>\n",
       "      <th>GT</th>\n",
       "    </tr>\n",
       "  </thead>\n",
       "  <tbody>\n",
       "    <tr>\n",
       "      <th>0</th>\n",
       "      <td>-3122.16</td>\n",
       "      <td>208122.16</td>\n",
       "      <td>205000.0</td>\n",
       "    </tr>\n",
       "    <tr>\n",
       "      <th>1</th>\n",
       "      <td>5422.22</td>\n",
       "      <td>339577.78</td>\n",
       "      <td>345000.0</td>\n",
       "    </tr>\n",
       "    <tr>\n",
       "      <th>2</th>\n",
       "      <td>-2609.99</td>\n",
       "      <td>176509.99</td>\n",
       "      <td>173900.0</td>\n",
       "    </tr>\n",
       "    <tr>\n",
       "      <th>3</th>\n",
       "      <td>27290.94</td>\n",
       "      <td>66209.06</td>\n",
       "      <td>93500.0</td>\n",
       "    </tr>\n",
       "    <tr>\n",
       "      <th>4</th>\n",
       "      <td>28423.35</td>\n",
       "      <td>237476.65</td>\n",
       "      <td>265900.0</td>\n",
       "    </tr>\n",
       "  </tbody>\n",
       "</table>\n",
       "</div>"
      ],
      "text/plain": [
       "   diff_ridge      ridge        GT\n",
       "0    -3122.16  208122.16  205000.0\n",
       "1     5422.22  339577.78  345000.0\n",
       "2    -2609.99  176509.99  173900.0\n",
       "3    27290.94   66209.06   93500.0\n",
       "4    28423.35  237476.65  265900.0"
      ]
     },
     "execution_count": 45,
     "metadata": {},
     "output_type": "execute_result"
    }
   ],
   "source": [
    "df_ridge_res = df_res[['diff_ridge', 'ridge', 'GT']]\n",
    "df_ridge_res.head(5)"
   ]
  },
  {
   "cell_type": "code",
   "execution_count": 46,
   "id": "9157b7c3",
   "metadata": {},
   "outputs": [
    {
     "data": {
      "text/html": [
       "<div>\n",
       "<style scoped>\n",
       "    .dataframe tbody tr th:only-of-type {\n",
       "        vertical-align: middle;\n",
       "    }\n",
       "\n",
       "    .dataframe tbody tr th {\n",
       "        vertical-align: top;\n",
       "    }\n",
       "\n",
       "    .dataframe thead th {\n",
       "        text-align: right;\n",
       "    }\n",
       "</style>\n",
       "<table border=\"1\" class=\"dataframe\">\n",
       "  <thead>\n",
       "    <tr style=\"text-align: right;\">\n",
       "      <th></th>\n",
       "      <th>diff_lasso</th>\n",
       "      <th>lasso</th>\n",
       "      <th>GT</th>\n",
       "    </tr>\n",
       "  </thead>\n",
       "  <tbody>\n",
       "    <tr>\n",
       "      <th>0</th>\n",
       "      <td>1085.75</td>\n",
       "      <td>203914.25</td>\n",
       "      <td>205000.0</td>\n",
       "    </tr>\n",
       "    <tr>\n",
       "      <th>1</th>\n",
       "      <td>-11692.59</td>\n",
       "      <td>356692.59</td>\n",
       "      <td>345000.0</td>\n",
       "    </tr>\n",
       "    <tr>\n",
       "      <th>2</th>\n",
       "      <td>-9286.60</td>\n",
       "      <td>183186.60</td>\n",
       "      <td>173900.0</td>\n",
       "    </tr>\n",
       "    <tr>\n",
       "      <th>3</th>\n",
       "      <td>42401.98</td>\n",
       "      <td>51098.02</td>\n",
       "      <td>93500.0</td>\n",
       "    </tr>\n",
       "    <tr>\n",
       "      <th>4</th>\n",
       "      <td>41848.68</td>\n",
       "      <td>224051.32</td>\n",
       "      <td>265900.0</td>\n",
       "    </tr>\n",
       "  </tbody>\n",
       "</table>\n",
       "</div>"
      ],
      "text/plain": [
       "   diff_lasso      lasso        GT\n",
       "0     1085.75  203914.25  205000.0\n",
       "1   -11692.59  356692.59  345000.0\n",
       "2    -9286.60  183186.60  173900.0\n",
       "3    42401.98   51098.02   93500.0\n",
       "4    41848.68  224051.32  265900.0"
      ]
     },
     "execution_count": 46,
     "metadata": {},
     "output_type": "execute_result"
    }
   ],
   "source": [
    "df_lasso_res = df_res[['diff_lasso', 'lasso', 'GT']]\n",
    "df_lasso_res.head(5)"
   ]
  },
  {
   "cell_type": "code",
   "execution_count": 47,
   "id": "4f9d46ca",
   "metadata": {},
   "outputs": [
    {
     "data": {
      "text/html": [
       "<div>\n",
       "<style scoped>\n",
       "    .dataframe tbody tr th:only-of-type {\n",
       "        vertical-align: middle;\n",
       "    }\n",
       "\n",
       "    .dataframe tbody tr th {\n",
       "        vertical-align: top;\n",
       "    }\n",
       "\n",
       "    .dataframe thead th {\n",
       "        text-align: right;\n",
       "    }\n",
       "</style>\n",
       "<table border=\"1\" class=\"dataframe\">\n",
       "  <thead>\n",
       "    <tr style=\"text-align: right;\">\n",
       "      <th></th>\n",
       "      <th>diff_enet</th>\n",
       "      <th>enet</th>\n",
       "      <th>GT</th>\n",
       "    </tr>\n",
       "  </thead>\n",
       "  <tbody>\n",
       "    <tr>\n",
       "      <th>0</th>\n",
       "      <td>-10093.58</td>\n",
       "      <td>215093.58</td>\n",
       "      <td>205000.0</td>\n",
       "    </tr>\n",
       "    <tr>\n",
       "      <th>1</th>\n",
       "      <td>7040.92</td>\n",
       "      <td>337959.08</td>\n",
       "      <td>345000.0</td>\n",
       "    </tr>\n",
       "    <tr>\n",
       "      <th>2</th>\n",
       "      <td>217.51</td>\n",
       "      <td>173682.49</td>\n",
       "      <td>173900.0</td>\n",
       "    </tr>\n",
       "    <tr>\n",
       "      <th>3</th>\n",
       "      <td>17875.07</td>\n",
       "      <td>75624.93</td>\n",
       "      <td>93500.0</td>\n",
       "    </tr>\n",
       "    <tr>\n",
       "      <th>4</th>\n",
       "      <td>28148.54</td>\n",
       "      <td>237751.46</td>\n",
       "      <td>265900.0</td>\n",
       "    </tr>\n",
       "  </tbody>\n",
       "</table>\n",
       "</div>"
      ],
      "text/plain": [
       "   diff_enet       enet        GT\n",
       "0  -10093.58  215093.58  205000.0\n",
       "1    7040.92  337959.08  345000.0\n",
       "2     217.51  173682.49  173900.0\n",
       "3   17875.07   75624.93   93500.0\n",
       "4   28148.54  237751.46  265900.0"
      ]
     },
     "execution_count": 47,
     "metadata": {},
     "output_type": "execute_result"
    }
   ],
   "source": [
    "df_enet_res = df_res[['diff_enet', 'enet', 'GT']]\n",
    "df_enet_res.head(5)"
   ]
  },
  {
   "cell_type": "markdown",
   "id": "32a78ef5",
   "metadata": {},
   "source": [
    "##### Check time to predict:"
   ]
  },
  {
   "cell_type": "code",
   "execution_count": 48,
   "id": "a997a7b5",
   "metadata": {},
   "outputs": [],
   "source": [
    "import time"
   ]
  },
  {
   "cell_type": "code",
   "execution_count": 49,
   "id": "f225561f",
   "metadata": {},
   "outputs": [],
   "source": [
    "dict_avg = {\n",
    "    'rf': [],\n",
    "    'gb':[],\n",
    "    'ridge':[],\n",
    "    'lasso':[],\n",
    "    'enet':[]\n",
    "}"
   ]
  },
  {
   "cell_type": "code",
   "execution_count": 50,
   "id": "a3772665",
   "metadata": {},
   "outputs": [],
   "source": [
    "def time_decorator(orignal_function):\n",
    "    def time_wrapper(*args, **kwargs):\n",
    "        st = time.time()\n",
    "        orignal_function(*args, **kwargs)\n",
    "        dict_avg[args[0]]= time.time() - st\n",
    "        return  \n",
    "    return time_wrapper"
   ]
  },
  {
   "cell_type": "code",
   "execution_count": 51,
   "id": "722e83f8",
   "metadata": {},
   "outputs": [],
   "source": [
    "@time_decorator\n",
    "def run_performance_test(algo, model, x_test):\n",
    "    yhat = model.predict(X_test)"
   ]
  },
  {
   "cell_type": "code",
   "execution_count": 59,
   "id": "20c77854",
   "metadata": {},
   "outputs": [],
   "source": [
    "for algo, model in fit_models.items():\n",
    "    run_performance_test(algo, model, X_test)"
   ]
  },
  {
   "cell_type": "code",
   "execution_count": 60,
   "id": "440f01df",
   "metadata": {},
   "outputs": [
    {
     "name": "stdout",
     "output_type": "stream",
     "text": [
      "rf 0.0075528621673583984\n",
      "gb 0.0013856887817382812\n",
      "ridge 0.004353046417236328\n",
      "lasso 0.0008270740509033203\n",
      "enet 0.0006823539733886719\n"
     ]
    }
   ],
   "source": [
    "for algo, val in dict_avg.items():\n",
    "    print(algo, val)\n",
    "# dict_avg['rf']/len(X_test) * 100\n"
   ]
  },
  {
   "cell_type": "code",
   "execution_count": null,
   "id": "79ae4211",
   "metadata": {},
   "outputs": [],
   "source": []
  }
 ],
 "metadata": {
  "kernelspec": {
   "display_name": "Python 3 (ipykernel)",
   "language": "python",
   "name": "python3"
  },
  "language_info": {
   "codemirror_mode": {
    "name": "ipython",
    "version": 3
   },
   "file_extension": ".py",
   "mimetype": "text/x-python",
   "name": "python",
   "nbconvert_exporter": "python",
   "pygments_lexer": "ipython3",
   "version": "3.8.10"
  }
 },
 "nbformat": 4,
 "nbformat_minor": 5
}
